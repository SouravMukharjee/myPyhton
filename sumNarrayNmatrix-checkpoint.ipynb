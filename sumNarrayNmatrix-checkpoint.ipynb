{
 "cells": [
  {
   "cell_type": "code",
   "execution_count": null,
   "id": "da789e20",
   "metadata": {},
   "outputs": [],
   "source": [
    "a = input('first integer')\n",
    "b = input('seccond integer')"
   ]
  },
  {
   "cell_type": "code",
   "execution_count": null,
   "id": "15c7859d",
   "metadata": {},
   "outputs": [],
   "source": [
    "print(a+b)"
   ]
  },
  {
   "cell_type": "code",
   "execution_count": null,
   "id": "04c37947",
   "metadata": {},
   "outputs": [],
   "source": [
    "sss = input('Enter your Name: ')\n",
    "print(sss)"
   ]
  },
  {
   "cell_type": "code",
   "execution_count": null,
   "id": "90e963d2",
   "metadata": {},
   "outputs": [],
   "source": [
    "print(a+b)"
   ]
  },
  {
   "cell_type": "code",
   "execution_count": null,
   "id": "41bac990",
   "metadata": {},
   "outputs": [],
   "source": [
    "yy = ('this is a varaible')"
   ]
  },
  {
   "cell_type": "code",
   "execution_count": null,
   "id": "d99acf14",
   "metadata": {},
   "outputs": [],
   "source": [
    "print(yy)"
   ]
  },
  {
   "cell_type": "code",
   "execution_count": null,
   "id": "2ca0b087",
   "metadata": {},
   "outputs": [],
   "source": []
  },
  {
   "cell_type": "code",
   "execution_count": null,
   "id": "308cacc7",
   "metadata": {},
   "outputs": [],
   "source": []
  }
 ],
 "metadata": {
  "kernelspec": {
   "display_name": "Python 3 (ipykernel)",
   "language": "python",
   "name": "python3"
  },
  "language_info": {
   "codemirror_mode": {
    "name": "ipython",
    "version": 3
   },
   "file_extension": ".py",
   "mimetype": "text/x-python",
   "name": "python",
   "nbconvert_exporter": "python",
   "pygments_lexer": "ipython3",
   "version": "3.11.5"
  }
 },
 "nbformat": 4,
 "nbformat_minor": 5
}
