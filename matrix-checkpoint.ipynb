{
 "cells": [
  {
   "cell_type": "code",
   "execution_count": 14,
   "id": "c447cdd2-1261-426d-8c02-ac1da5de77a6",
   "metadata": {},
   "outputs": [
    {
     "name": "stdout",
     "output_type": "stream",
     "text": [
      "addition of matrix is: \n",
      "[[ 3  5  7]\n",
      " [ 9 11 13]]\n"
     ]
    }
   ],
   "source": [
    "import numpy as np\n",
    "\n",
    "# matrix = np.array([[1, 2, 3], [4, 5, 6]])\n",
    "# print(matrix)\n",
    "mat_1 = np.array([[1, 2, 3] , [4,5, 6]])\n",
    "mat_2 = np.array([[2, 3, 4] , [5, 6, 7]])\n",
    "\n",
    "# add = mat_1 + mat_2\n",
    "result = np.add(mat_1, mat_2)\n",
    "# print(\"addition of matrix is: \" , result)\n",
    "print(\"addition of matrix is: \\n\" + str(result))"
   ]
  },
  {
   "cell_type": "code",
   "execution_count": 14,
   "id": "19e59b4d-c259-472e-88a6-74f8eea6031b",
   "metadata": {},
   "outputs": [
    {
     "name": "stdout",
     "output_type": "stream",
     "text": [
      "addition of matrix is: \n",
      "[[ 3  5  7]\n",
      " [ 9 11 13]]\n"
     ]
    }
   ],
   "source": [
    "import numpy as np\n",
    "\n",
    "# Function to take user input for a matrix\n",
    "def get_matrix_from_user(rows, cols):\n",
    "    matrix = []\n",
    "    for i in range(rows):\n",
    "        row = list(map(int, input(f\"Enter values for row {i + 1} separated by space: \").split()))\n",
    "        if len(row) != cols:\n",
    "            print(f\"Error: Please enter {cols} values for each row.\")\n",
    "            return get_matrix_from_user(rows, cols)\n",
    "        matrix.append(row)\n",
    "    return np.array(matrix)\n",
    "\n",
    "# Get dimensions of the matrices\n",
    "rows = int(input(\"Enter the number of rows: \"))\n",
    "cols = int(input(\"Enter the number of columns: \"))\n",
    "\n",
    "# Get matrices from the user\n",
    "matrix_a = get_matrix_from_user(rows, cols)\n",
    "matrix_b = get_matrix_from_user(rows, cols)\n",
    "\n",
    "# Perform matrix addition\n",
    "result = np.add(matrix_a, matrix_b)\n",
    "\n",
    "# Print the result\n",
    "print(\"Matrix A:\")\n",
    "print(matrix_a)\n",
    "print(\"\\nMatrix B:\")\n",
    "print(matrix_b)\n",
    "print(\"\\nResult of Matrix Addition:\")\n",
    "print(result)\n"
   ]
  }
 ],
 "metadata": {
  "kernelspec": {
   "display_name": "Python 3 (ipykernel)",
   "language": "python",
   "name": "python3"
  },
  "language_info": {
   "codemirror_mode": {
    "name": "ipython",
    "version": 3
   },
   "file_extension": ".py",
   "mimetype": "text/x-python",
   "name": "python",
   "nbconvert_exporter": "python",
   "pygments_lexer": "ipython3",
   "version": "3.12.0"
  }
 },
 "nbformat": 4,
 "nbformat_minor": 5
}
