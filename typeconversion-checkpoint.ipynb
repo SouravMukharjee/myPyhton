{
 "cells": [
  {
   "cell_type": "markdown",
   "id": "9c78552d-6715-43d0-b85a-044af84adc84",
   "metadata": {},
   "source": [
    "type conversion"
   ]
  },
  {
   "cell_type": "code",
   "execution_count": 8,
   "id": "5750e211-0152-4f1e-a01c-5c68efcfbdce",
   "metadata": {},
   "outputs": [
    {
     "name": "stdout",
     "output_type": "stream",
     "text": [
      "4.0\n"
     ]
    }
   ],
   "source": [
    "x = str(1)\n",
    "y = float(2.8)\n",
    "z = int(3)\n",
    "w = float(\"4.2\")\n",
    "print(x + z)\n"
   ]
  },
  {
   "cell_type": "code",
   "execution_count": 7,
   "id": "d852bcd3-ce73-4892-9c3b-14b8c1a70e95",
   "metadata": {},
   "outputs": [
    {
     "name": "stdout",
     "output_type": "stream",
     "text": [
      "44.33\n"
     ]
    }
   ],
   "source": [
    "x = int(22)\n",
    "y = float(22.33)\n",
    "sum = x + y\n",
    "\n",
    "# print(f'addition result is :{sum}')\n",
    "print(sum)\n"
   ]
  }
 ],
 "metadata": {
  "kernelspec": {
   "display_name": "Python 3 (ipykernel)",
   "language": "python",
   "name": "python3"
  },
  "language_info": {
   "codemirror_mode": {
    "name": "ipython",
    "version": 3
   },
   "file_extension": ".py",
   "mimetype": "text/x-python",
   "name": "python",
   "nbconvert_exporter": "python",
   "pygments_lexer": "ipython3",
   "version": "3.12.0"
  }
 },
 "nbformat": 4,
 "nbformat_minor": 5
}
