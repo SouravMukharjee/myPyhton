{
 "cells": [
  {
   "cell_type": "code",
   "execution_count": 25,
   "id": "72766310-c82c-4c15-8930-cc2aa0f805ae",
   "metadata": {},
   "outputs": [
    {
     "name": "stdout",
     "output_type": "stream",
     "text": [
      "23\n",
      " but\n",
      "this \n"
     ]
    }
   ],
   "source": [
    "my_str = 'this is my first string'\n",
    "your_str = ' but  I love your string'\n",
    "\n",
    "print(len(my_str))\n",
    "\n",
    "print(your_str[0:4])\n",
    "print(my_str[0:5])\n"
   ]
  },
  {
   "cell_type": "markdown",
   "id": "6ccbba85-738e-42d0-b7bf-0b07e957f369",
   "metadata": {},
   "source": [
    "lower, proper, upper (convert capital to small)"
   ]
  },
  {
   "cell_type": "code",
   "execution_count": 33,
   "id": "b30dcd63-fd28-4fd8-8a4c-2c3f6d47be2f",
   "metadata": {},
   "outputs": [
    {
     "name": "stdout",
     "output_type": "stream",
     "text": [
      "HOW MANY DAYS BEFORE YOU SAW A HORROR MOVIE ?\n",
      "how many days before you saw a horror movie ?\n",
      "How many days before you saw a horror movie ?\n",
      "How Many Days Before You Saw A Horror Movie ?\n"
     ]
    }
   ],
   "source": [
    "letter_cs = \"how many days before you saw a horror movie ?\"\n",
    "\n",
    "print(letter_cs.upper())\n",
    "print(letter_cs.lower())\n",
    "print(letter_cs.capitalize())\n",
    "print(letter_cs.title())"
   ]
  },
  {
   "cell_type": "code",
   "execution_count": 40,
   "id": "3fcd4391-9681-40b4-8947-684c690d19da",
   "metadata": {},
   "outputs": [
    {
     "data": {
      "text/plain": [
       "'Sshe has a beatiful smiles. she lives with sher mom'"
      ]
     },
     "execution_count": 40,
     "metadata": {},
     "output_type": "execute_result"
    }
   ],
   "source": [
    "letter_cs = \"how many days before you saw a horror movie ?\"\n",
    "\n",
    "letter_cs.replace(\"days\", \"week\")\n",
    "\n",
    "replacement = \"She has a beatiful smiles. he lives with her mom\"\n",
    "pattern = r\"(?<=\\.\\s)(\\w+)\"\n",
    "replacement.replace(\"he\", \"she\")"
   ]
  }
 ],
 "metadata": {
  "kernelspec": {
   "display_name": "Python 3 (ipykernel)",
   "language": "python",
   "name": "python3"
  },
  "language_info": {
   "codemirror_mode": {
    "name": "ipython",
    "version": 3
   },
   "file_extension": ".py",
   "mimetype": "text/x-python",
   "name": "python",
   "nbconvert_exporter": "python",
   "pygments_lexer": "ipython3",
   "version": "3.12.0"
  }
 },
 "nbformat": 4,
 "nbformat_minor": 5
}
