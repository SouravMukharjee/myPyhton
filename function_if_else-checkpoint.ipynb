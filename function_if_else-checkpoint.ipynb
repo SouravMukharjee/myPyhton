{
 "cells": [
  {
   "cell_type": "code",
   "execution_count": 1,
   "id": "49243a61-e651-4c34-8994-6272fa63b12c",
   "metadata": {},
   "outputs": [
    {
     "ename": "SyntaxError",
     "evalue": "unterminated string literal (detected at line 10) (3516365993.py, line 10)",
     "output_type": "error",
     "traceback": [
      "\u001b[1;36m  Cell \u001b[1;32mIn[1], line 10\u001b[1;36m\u001b[0m\n\u001b[1;33m    email_in = str(input('Enter the e\u001b[0m\n\u001b[1;37m                         ^\u001b[0m\n\u001b[1;31mSyntaxError\u001b[0m\u001b[1;31m:\u001b[0m unterminated string literal (detected at line 10)\n"
     ]
    }
   ],
   "source": [
    "def ads(name, email):\n",
    "    print(\"your name is :\" + name)\n",
    "    print(\"Your email is :\" + email)\n",
    "    print()\n",
    "\n",
    "num_user = int(input('Enter the numbers of user'))\n",
    "\n",
    "for i in range(num_user):\n",
    "    name_in = str(input('Enter the user name:')).title()\n",
    "    email_in = str(input('Enter the email adress:')).lower()\n",
    "\n",
    "ads(name_in, email_in)"
   ]
  }
 ],
 "metadata": {
  "kernelspec": {
   "display_name": "Python 3 (ipykernel)",
   "language": "python",
   "name": "python3"
  },
  "language_info": {
   "codemirror_mode": {
    "name": "ipython",
    "version": 3
   },
   "file_extension": ".py",
   "mimetype": "text/x-python",
   "name": "python",
   "nbconvert_exporter": "python",
   "pygments_lexer": "ipython3",
   "version": "3.12.0"
  }
 },
 "nbformat": 4,
 "nbformat_minor": 5
}
