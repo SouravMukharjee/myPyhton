{
 "cells": [
  {
   "cell_type": "code",
   "execution_count": 18,
   "id": "bd1a7c3a-3a77-412a-ab13-e7e8d31ac2c8",
   "metadata": {},
   "outputs": [
    {
     "name": "stdin",
     "output_type": "stream",
     "text": [
      "Enter your age: 99\n",
      "Enter your age: 66\n",
      "Enter your age: 55\n",
      "Enter your age: 66\n"
     ]
    },
    {
     "name": "stdout",
     "output_type": "stream",
     "text": [
      "the large number is:99\n"
     ]
    }
   ],
   "source": [
    "age = [int(input(\"Enter your age:\")),\n",
    "       int(input(\"Enter your age:\")),\n",
    "       int(input(\"Enter your age:\")),\n",
    "       int(input(\"Enter your age:\")),\n",
    "      ]\n",
    "\n",
    "max_age = max(age)\n",
    "print('the large number is:' + str(max_age))"
   ]
  },
  {
   "cell_type": "code",
   "execution_count": 19,
   "id": "55725fdc-2bad-405c-a07a-1496b7bce0c4",
   "metadata": {},
   "outputs": [
    {
     "name": "stdin",
     "output_type": "stream",
     "text": [
      "Enter the age of P: 55\n",
      "Enter the age of q: 66\n",
      "Enter the age of r: 88\n",
      "Enter the age of s: 22\n",
      "Enter the age of t: 11\n"
     ]
    },
    {
     "name": "stdout",
     "output_type": "stream",
     "text": [
      "Most elder is :88\n"
     ]
    }
   ],
   "source": [
    "age = [int(input('Enter the age of P:')),\n",
    "      int(input('Enter the age of q:')),\n",
    "      int(input('Enter the age of r:')),\n",
    "      int(input('Enter the age of s:')),\n",
    "      int(input('Enter the age of t:')),]\n",
    "\n",
    "max_age = max(age)\n",
    "print('Most elder is :' + str(max_age))"
   ]
  },
  {
   "cell_type": "code",
   "execution_count": 26,
   "id": "881da159-b970-4634-94ef-0ca1b44fa7f2",
   "metadata": {},
   "outputs": [
    {
     "name": "stdin",
     "output_type": "stream",
     "text": [
      "Enter your birthdate (YYYY-MM-DD):  1999-2-2\n"
     ]
    },
    {
     "name": "stdout",
     "output_type": "stream",
     "text": [
      "Your age is: 24\n"
     ]
    }
   ],
   "source": [
    "from datetime import datetime\n",
    "\n",
    "# Get the current date\n",
    "current_date = datetime.now()\n",
    "\n",
    "# Input the birthdate in the format 'YYYY-MM-DD'\n",
    "birthdate_str = input('Enter your birthdate (YYYY-MM-DD): ')\n",
    "\n",
    "# Convert the birthdate string to a datetime object\n",
    "birthdate = datetime.strptime(birthdate_str, '%Y-%m-%d')\n",
    "\n",
    "# Calculate the age\n",
    "age = current_date.year - birthdate.year - ((current_date.month, current_date.day) < (birthdate.month, birthdate.day))\n",
    "\n",
    "# Print the result\n",
    "print('Your age is:', age)\n"
   ]
  },
  {
   "cell_type": "code",
   "execution_count": 37,
   "id": "d623d2fd-3632-4223-b718-e90bf47fdafe",
   "metadata": {},
   "outputs": [
    {
     "name": "stdin",
     "output_type": "stream",
     "text": [
      "Enter your birthdate (YYYY-MM-DD): 2000-8-8\n"
     ]
    },
    {
     "ename": "TypeError",
     "evalue": "unsupported operand type(s) for -: 'tuple' and 'tuple'",
     "output_type": "error",
     "traceback": [
      "\u001b[1;31m---------------------------------------------------------------------------\u001b[0m",
      "\u001b[1;31mTypeError\u001b[0m                                 Traceback (most recent call last)",
      "Cell \u001b[1;32mIn[37], line 10\u001b[0m\n\u001b[0;32m      7\u001b[0m my_birth_convert \u001b[38;5;241m=\u001b[39m datetime\u001b[38;5;241m.\u001b[39mstrptime(my_birth,\u001b[38;5;124m'\u001b[39m\u001b[38;5;124m%\u001b[39m\u001b[38;5;124mY-\u001b[39m\u001b[38;5;124m%\u001b[39m\u001b[38;5;124mm-\u001b[39m\u001b[38;5;132;01m%d\u001b[39;00m\u001b[38;5;124m'\u001b[39m)\n\u001b[0;32m      9\u001b[0m \u001b[38;5;66;03m# calculation = my_birth_convert - tanan\u001b[39;00m\n\u001b[1;32m---> 10\u001b[0m calcualtion \u001b[38;5;241m=\u001b[39m my_birth_convert\u001b[38;5;241m.\u001b[39myear \u001b[38;5;241m-\u001b[39m tanan\u001b[38;5;241m.\u001b[39myear \u001b[38;5;241m-\u001b[39m (\u001b[43m(\u001b[49m\u001b[43mmy_birth_convert\u001b[49m\u001b[38;5;241;43m.\u001b[39;49m\u001b[43mmonth\u001b[49m\u001b[43m,\u001b[49m\u001b[43mmy_birth_convert\u001b[49m\u001b[38;5;241;43m.\u001b[39;49m\u001b[43mday\u001b[49m\u001b[43m)\u001b[49m\u001b[43m \u001b[49m\u001b[38;5;241;43m-\u001b[39;49m\u001b[43m \u001b[49m\u001b[43m(\u001b[49m\u001b[43mtanan\u001b[49m\u001b[38;5;241;43m.\u001b[39;49m\u001b[43mmonth\u001b[49m\u001b[43m,\u001b[49m\u001b[43mtanan\u001b[49m\u001b[38;5;241;43m.\u001b[39;49m\u001b[43mday\u001b[49m\u001b[43m)\u001b[49m )\n\u001b[0;32m     12\u001b[0m \u001b[38;5;28mprint\u001b[39m(calculation)\n",
      "\u001b[1;31mTypeError\u001b[0m: unsupported operand type(s) for -: 'tuple' and 'tuple'"
     ]
    }
   ],
   "source": [
    "from datetime import datetime\n",
    "\n",
    "tanan = datetime.now()\n",
    "\n",
    "my_birth = input('Enter your birthdate (YYYY-MM-DD):')\n",
    "\n",
    "my_birth_convert = datetime.strptime(my_birth,'%Y-%m-%d')\n",
    "\n",
    "# calculation = my_birth_convert - tanan\n",
    "calcualtion = my_birth_convert.year - tanan.year - ((my_birth_convert.month,my_birth_convert.day) < (tanan.month,tanan.day) )\n",
    "\n",
    "print(calculation)\n",
    "\n"
   ]
  },
  {
   "cell_type": "code",
   "execution_count": 44,
   "id": "54148439-ff88-4532-a4c8-b09611de8bb4",
   "metadata": {},
   "outputs": [
    {
     "name": "stdin",
     "output_type": "stream",
     "text": [
      "take input from the user 5\n"
     ]
    },
    {
     "name": "stdout",
     "output_type": "stream",
     "text": [
      "x is less than 10\n"
     ]
    }
   ],
   "source": [
    "# x = 12\n",
    "x = int(input('take input from the user'))\n",
    "\n",
    "if x > 10:\n",
    "    print(\"x is greater than 10\")\n",
    "elif x == 10:\n",
    "    print(\"x is equal to 10\")\n",
    "else:\n",
    "    print(\"x is less than 10\")"
   ]
  },
  {
   "cell_type": "markdown",
   "id": "f2e7b7f9-9b00-47c3-bae0-62aa88236ad3",
   "metadata": {},
   "source": [
    "if it rains use umbrella and if it does not , you can go without umbrella"
   ]
  },
  {
   "cell_type": "code",
   "execution_count": 51,
   "id": "1276accc-2154-43ff-a8d3-f092a46e9b0e",
   "metadata": {},
   "outputs": [
    {
     "name": "stdin",
     "output_type": "stream",
     "text": [
      "Is it raining? '(yes/no') no\n"
     ]
    },
    {
     "name": "stdout",
     "output_type": "stream",
     "text": [
      "you can go without umbrella\n"
     ]
    }
   ],
   "source": [
    "weather = str(input(\"Is it raining? '(yes/no')\"))\n",
    "\n",
    "if weather == 'yes':\n",
    "    print(\"use umbrella\")\n",
    "    \n",
    "elif weather == 'no':\n",
    "    print(\"you can go without umbrella\")"
   ]
  },
  {
   "cell_type": "code",
   "execution_count": 62,
   "id": "bd955fd9-711b-4219-810f-a7fd70a245b8",
   "metadata": {},
   "outputs": [
    {
     "name": "stdin",
     "output_type": "stream",
     "text": [
      "Enter you marks:  69\n"
     ]
    },
    {
     "name": "stdout",
     "output_type": "stream",
     "text": [
      "you get 4\n"
     ]
    }
   ],
   "source": [
    "score = int(input(\"Enter you marks: \"))\n",
    "\n",
    "if score >= 80:\n",
    "    print('you get 5')\n",
    "    \n",
    "elif score >= 70:\n",
    "    print('you get 4.5')\n",
    "    \n",
    "elif score >= 60:\n",
    "    print('you get 4')\n",
    "    \n",
    "elif score >= 50:\n",
    "    print('you get 3')\n",
    "\n",
    "else:\n",
    "    print('you got 1')"
   ]
  },
  {
   "cell_type": "code",
   "execution_count": 68,
   "id": "a9a2e1d5-28d2-4583-bba3-0876359f309b",
   "metadata": {},
   "outputs": [
    {
     "name": "stdin",
     "output_type": "stream",
     "text": [
      "enter your number 12\n",
      "enter your number 11\n"
     ]
    },
    {
     "name": "stdout",
     "output_type": "stream",
     "text": [
      "12is the large one\n"
     ]
    }
   ],
   "source": [
    "a = int(input('enter your number'))\n",
    "b = int(input('enter your number'))\n",
    "\n",
    "if(a > b):\n",
    "    print(str(a) + 'is the large one')\n",
    "else:\n",
    "    print(str(b) + 'B is the large one ')"
   ]
  },
  {
   "cell_type": "code",
   "execution_count": 73,
   "id": "d7bd65cd-64f5-4236-ac91-bbdf59f76a8a",
   "metadata": {},
   "outputs": [
    {
     "name": "stdin",
     "output_type": "stream",
     "text": [
      "enter your number 22\n",
      "enter your number 108\n",
      "enter your number 23\n"
     ]
    },
    {
     "name": "stdout",
     "output_type": "stream",
     "text": [
      "108 is the large one\n"
     ]
    }
   ],
   "source": [
    "a = int(input('enter your number'))\n",
    "b = int(input('enter your number'))\n",
    "c = int(input('enter your number'))\n",
    "\n",
    "if(a > b) & (a > c):\n",
    "    print(str(a) + ' ' + 'is the large number')\n",
    "    \n",
    "elif (b > a) & (b > c):\n",
    "    \n",
    "    print(str(b) + ' ' +'is the large number')\n",
    "    \n",
    "else:\n",
    "    print(str(c) + ' ' +'is the large number')"
   ]
  },
  {
   "cell_type": "markdown",
   "id": "c7fecfb7-fed7-4e88-a483-d7fc80b310aa",
   "metadata": {},
   "source": [
    "take five names of different fruits as a list and find out weather it is in the list or not"
   ]
  },
  {
   "cell_type": "code",
   "execution_count": 78,
   "id": "c94eb0ca-662a-48ff-b075-62c34ecd167c",
   "metadata": {},
   "outputs": [
    {
     "name": "stdin",
     "output_type": "stream",
     "text": [
      "enter the name of the fruit: namgo\n"
     ]
    },
    {
     "name": "stdout",
     "output_type": "stream",
     "text": [
      "The name is not exist\n"
     ]
    }
   ],
   "source": [
    "fruits = ['apple', 'banana', 'orange', 'mango', 'guava']\n",
    "x = str(input('enter the name of the fruit:'))\n",
    "\n",
    "if x in fruits:\n",
    "    print('The fruit name is in the list')\n",
    "else:\n",
    "    print('The name is not exist')"
   ]
  },
  {
   "cell_type": "code",
   "execution_count": 88,
   "id": "379c6318-2662-4bac-9448-1ddbc3e4babe",
   "metadata": {},
   "outputs": [
    {
     "name": "stdin",
     "output_type": "stream",
     "text": [
      "Enter the searching element: milk\n"
     ]
    },
    {
     "name": "stdout",
     "output_type": "stream",
     "text": [
      "milk is not in the list\n"
     ]
    }
   ],
   "source": [
    "grocery_iteam = ['tea', 'coffee', 'biscuit', 'honey','butter']\n",
    "y = str(input(\"Enter the searching element:\"))\n",
    "\n",
    "if y in grocery_iteam:\n",
    "    print(y +' '+ 'is in the list:')\n",
    "else:\n",
    "    print( y +' '+ 'is not in the list')"
   ]
  },
  {
   "cell_type": "code",
   "execution_count": 93,
   "id": "0994fe93-6085-48c3-ad64-32431ca1681a",
   "metadata": {},
   "outputs": [
    {
     "name": "stdin",
     "output_type": "stream",
     "text": [
      "Enter the name of the iteam: butter\n"
     ]
    },
    {
     "name": "stdout",
     "output_type": "stream",
     "text": [
      "The index of 'honey' is: 4\n"
     ]
    }
   ],
   "source": [
    "# grocery_iteam = ['tea', 'coffee', 'biscuit', 'honey', 'butter']\n",
    "# index_find = grocery_iteam.index('honey')\n",
    "#      print(f\"the index of 'honey' is : {index_find}\")\n",
    "\n",
    "grocery_items = ['tea', 'coffee', 'biscuit', 'honey', 'butter']\n",
    "x = str(input(\"Enter the name of the iteam:\"))\n",
    "\n",
    "index_find = grocery_items.index(x)\n",
    "\n",
    "print(f\"The index of 'honey' is: {index_find}\")\n"
   ]
  },
  {
   "cell_type": "markdown",
   "id": "81c055b8-66e2-40d5-9f95-259306066fa5",
   "metadata": {},
   "source": [
    "replace the list iteam with if statement"
   ]
  },
  {
   "cell_type": "code",
   "execution_count": 106,
   "id": "ab46e6a3-91b8-4664-b8b1-7d5096144a23",
   "metadata": {},
   "outputs": [
    {
     "name": "stdout",
     "output_type": "stream",
     "text": [
      "2\n",
      "4\n",
      "6\n",
      "8\n",
      "10\n",
      "12\n",
      "14\n",
      "16\n",
      "18\n"
     ]
    }
   ],
   "source": [
    "i = 1\n",
    "n = 2\n",
    "while i<10:\n",
    "    print(n*i)\n",
    "    i = i+1 "
   ]
  }
 ],
 "metadata": {
  "kernelspec": {
   "display_name": "Python 3 (ipykernel)",
   "language": "python",
   "name": "python3"
  },
  "language_info": {
   "codemirror_mode": {
    "name": "ipython",
    "version": 3
   },
   "file_extension": ".py",
   "mimetype": "text/x-python",
   "name": "python",
   "nbconvert_exporter": "python",
   "pygments_lexer": "ipython3",
   "version": "3.12.0"
  }
 },
 "nbformat": 4,
 "nbformat_minor": 5
}
