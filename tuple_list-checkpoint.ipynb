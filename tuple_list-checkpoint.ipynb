{
 "cells": [
  {
   "cell_type": "code",
   "execution_count": 13,
   "id": "ce9dcf52-e67e-4bcd-b633-0a1e4f5a3a17",
   "metadata": {},
   "outputs": [
    {
     "name": "stdout",
     "output_type": "stream",
     "text": [
      "<class 'tuple'>\n"
     ]
    },
    {
     "data": {
      "text/plain": [
       "6"
      ]
     },
     "execution_count": 13,
     "metadata": {},
     "output_type": "execute_result"
    }
   ],
   "source": [
    "my_tuple = ('id', 'name')\n",
    "my_tuple2 = ('addr', 'sub', 'minor')\n",
    "\n",
    "len(my_tuple2)\n",
    "my_tuple*10 + my_tuple2\n",
    "\n",
    "new_t = (1,2,3,4,5,6)\n",
    "print(type(new_t))\n",
    "max(new_t)\n",
    "\n"
   ]
  },
  {
   "cell_type": "code",
   "execution_count": 1,
   "id": "9386d7f6-d9e8-4c1c-972f-38275e45079b",
   "metadata": {},
   "outputs": [
    {
     "name": "stdout",
     "output_type": "stream",
     "text": [
      "[1, 'shampoo', 2, 'makeup', 3, 'kitchenI', 4, 'vegeT', 5, 'fish', 6, 'mirror']\n",
      "['shampoo', 'makeup', 'vegeT']\n"
     ]
    }
   ],
   "source": [
    "li = [8989, 'sourav', 3.1416, True]\n",
    "# print(type(li))\n",
    "\n",
    "list1 = [1, 'shampoo', 2, 'makeup', 3, 'kitchenI']\n",
    "list2 = [4, 'vegeT', 5, 'fish', 6, 'mirror']\n",
    "\n",
    "print(list1 + list2)\n",
    "\n",
    "# selected_elements = list1[1:2] + list1[3:4] + list2[1:2]\n",
    "myIteam = list1[1:2] + list1[3:4] + list2[1:2]\n",
    "# Print the result\n",
    "print(myIteam)\n"
   ]
  },
  {
   "cell_type": "code",
   "execution_count": 49,
   "id": "c80da29d-6826-4b33-843d-86f275f14a9b",
   "metadata": {},
   "outputs": [
    {
     "name": "stdin",
     "output_type": "stream",
     "text": [
      "enter the name of our item apple\n"
     ]
    },
    {
     "name": "stdout",
     "output_type": "stream",
     "text": [
      "Element 'apple' found at index 3\n"
     ]
    }
   ],
   "source": [
    "my_list = ['shampoo', 'makeup', 'kitchenI', 'apple', 'banana', 'orage']\n",
    "target_name = input('enter the name of our item')\n",
    "\n",
    "for i, item in enumerate(my_list):\n",
    "    if item == target_name:\n",
    "        print(f\"Element '{target_name}' found at index {i}\")\n",
    "        break\n",
    "else:\n",
    "    print(\"Element not found\")\n"
   ]
  },
  {
   "cell_type": "code",
   "execution_count": 2,
   "id": "ffe4b416-f726-4ba7-91c2-c004e4285fdb",
   "metadata": {},
   "outputs": [
    {
     "name": "stdin",
     "output_type": "stream",
     "text": [
      "Enter the name of your item makeup\n"
     ]
    },
    {
     "name": "stdout",
     "output_type": "stream",
     "text": [
      "not found\n",
      "element 'makeup' found at index1\n"
     ]
    }
   ],
   "source": [
    "mylist = ['shampoo', 'makeup', 'spoon', 'apple', 'banana', 'orange']\n",
    "# print(mylist)\n",
    "search = input(\"Enter the name of your item: \\n\")\n",
    "\n",
    "for i, item in enumerate(mylist):\n",
    "    if item == search:\n",
    "        print(f\"element '{search}' found at index{i}\")\n",
    "        break\n",
    "    else:\n",
    "        print('not found')"
   ]
  }
 ],
 "metadata": {
  "kernelspec": {
   "display_name": "Python 3 (ipykernel)",
   "language": "python",
   "name": "python3"
  },
  "language_info": {
   "codemirror_mode": {
    "name": "ipython",
    "version": 3
   },
   "file_extension": ".py",
   "mimetype": "text/x-python",
   "name": "python",
   "nbconvert_exporter": "python",
   "pygments_lexer": "ipython3",
   "version": "3.12.0"
  }
 },
 "nbformat": 4,
 "nbformat_minor": 5
}
