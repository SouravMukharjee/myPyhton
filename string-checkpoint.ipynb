{
 "cells": [
  {
   "cell_type": "markdown",
   "id": "51ec2d21-d24c-4219-aed1-2d9ab9831764",
   "metadata": {},
   "source": [
    "count the substring or how many time a number appeared in the input row"
   ]
  },
  {
   "cell_type": "code",
   "execution_count": 12,
   "id": "5308dfc4-ecda-4afd-bc49-d5f39f7f6bf3",
   "metadata": {},
   "outputs": [
    {
     "name": "stdin",
     "output_type": "stream",
     "text": [
      "enter your sentence I am a student a a djkd a a hjdfh a\n",
      "what you would like to countg a\n"
     ]
    },
    {
     "name": "stdout",
     "output_type": "stream",
     "text": [
      "find the word ''my'' and say it comes 7 times\n"
     ]
    }
   ],
   "source": [
    "# input_str = \"this is my string , my first string in python string chapter\"\n",
    "\n",
    "# substring = \"my\"\n",
    "\n",
    "# count = input_str.count(substring)\n",
    "\n",
    "# print(f\"the substring {substring} comes in {count} times\")\n",
    "\n",
    "# input_str = \"this is my string , my first string in python string chapter\"\n",
    "\n",
    "input_str = input(\"enter your sentence\")\n",
    "\n",
    "sub = input(\"what you would like to countg\")\n",
    "\n",
    "count = input_str.count(sub)\n",
    "\n",
    "print(f\"find the word ''{substring}'' and say it comes {count} times\")"
   ]
  }
 ],
 "metadata": {
  "kernelspec": {
   "display_name": "Python 3 (ipykernel)",
   "language": "python",
   "name": "python3"
  },
  "language_info": {
   "codemirror_mode": {
    "name": "ipython",
    "version": 3
   },
   "file_extension": ".py",
   "mimetype": "text/x-python",
   "name": "python",
   "nbconvert_exporter": "python",
   "pygments_lexer": "ipython3",
   "version": "3.12.0"
  }
 },
 "nbformat": 4,
 "nbformat_minor": 5
}
