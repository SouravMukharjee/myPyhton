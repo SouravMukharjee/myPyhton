{
 "cells": [
  {
   "cell_type": "code",
   "execution_count": 13,
   "id": "60018622-a917-4ff7-92c2-89630fdd892d",
   "metadata": {},
   "outputs": [
    {
     "name": "stdout",
     "output_type": "stream",
     "text": [
      "(10+2j)\n"
     ]
    }
   ],
   "source": [
    "tp1 = 3 + 7j\n",
    "tp2 = 7 - 5j\n",
    "add = tp1 + tp2\n",
    "type(tp1 and tp2)\n",
    "print(add)"
   ]
  }
 ],
 "metadata": {
  "kernelspec": {
   "display_name": "Python 3 (ipykernel)",
   "language": "python",
   "name": "python3"
  },
  "language_info": {
   "codemirror_mode": {
    "name": "ipython",
    "version": 3
   },
   "file_extension": ".py",
   "mimetype": "text/x-python",
   "name": "python",
   "nbconvert_exporter": "python",
   "pygments_lexer": "ipython3",
   "version": "3.12.0"
  }
 },
 "nbformat": 4,
 "nbformat_minor": 5
}
