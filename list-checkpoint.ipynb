{
 "cells": [
  {
   "cell_type": "code",
   "execution_count": 1,
   "id": "4bc69a56-f512-4e8c-9fde-d25b825a080b",
   "metadata": {},
   "outputs": [
    {
     "name": "stdin",
     "output_type": "stream",
     "text": [
      "my full name is: sourav mukharjee\n"
     ]
    },
    {
     "name": "stdout",
     "output_type": "stream",
     "text": [
      "first name Sourav\n",
      "last name Mukharjee\n"
     ]
    }
   ],
   "source": [
    "# my_word  = input(\"enter your department name\")\n",
    "# print(my_f_s)\n",
    "# len(my_f_s)\n",
    "# print(my_f_s.upper())\n",
    "# my_f_s.lower()\n",
    "# my_f_s.capitalize()\n",
    "\n",
    "\n",
    "# name = input(\"Enter your full name :\")\n",
    "# proper = name.title()\n",
    "\n",
    "# print(proper)\n",
    "\n",
    "# print(my_word)\n",
    "# my_word.split('o')\n",
    "\n",
    "name = input(\"my full name is:\")\n",
    "\n",
    "name = name.title()\n",
    "n_s = name.split()\n",
    "# n_s = n_s.title()\n",
    "\n",
    "first_name = n_s[0]\n",
    "last_name = n_s[1]\n",
    "\n",
    "print(\"first name \" + first_name + \"\\n\" + \"last name \"  + last_name)"
   ]
  },
  {
   "cell_type": "code",
   "execution_count": 7,
   "id": "73c6f575-e7b3-4a82-8feb-3e188ba1cdc5",
   "metadata": {},
   "outputs": [
    {
     "name": "stdin",
     "output_type": "stream",
     "text": [
      "Enter your full name: uni vaasa\n"
     ]
    },
    {
     "name": "stdout",
     "output_type": "stream",
     "text": [
      "Fisrts name is Sourav\n",
      "Last name is :vaasa\n"
     ]
    }
   ],
   "source": [
    "my_name = input(\"Enter your full name:\")\n",
    "\n",
    "name = my_name.split()\n",
    "f_name = name[0]\n",
    "l_name = name[1]\n",
    "\n",
    "print(\"First name is \" + f_name + \"\\n\" + \"Last name is :\" + l_name)\n"
   ]
  },
  {
   "cell_type": "code",
   "execution_count": null,
   "id": "6577c58c-b7ff-4d63-838b-eb08e092297e",
   "metadata": {},
   "outputs": [],
   "source": []
  }
 ],
 "metadata": {
  "kernelspec": {
   "display_name": "Python 3 (ipykernel)",
   "language": "python",
   "name": "python3"
  },
  "language_info": {
   "codemirror_mode": {
    "name": "ipython",
    "version": 3
   },
   "file_extension": ".py",
   "mimetype": "text/x-python",
   "name": "python",
   "nbconvert_exporter": "python",
   "pygments_lexer": "ipython3",
   "version": "3.12.0"
  }
 },
 "nbformat": 4,
 "nbformat_minor": 5
}
