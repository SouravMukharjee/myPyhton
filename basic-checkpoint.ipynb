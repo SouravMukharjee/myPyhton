{
 "cells": [
  {
   "cell_type": "markdown",
   "id": "9b9ac407-4b06-4004-8979-a5b4d48f920c",
   "metadata": {
    "scrolled": true
   },
   "source": [
    "how to type variable"
   ]
  },
  {
   "cell_type": "code",
   "execution_count": 17,
   "id": "c2e67434-d5bd-4b36-ab72-03a18b89a132",
   "metadata": {},
   "outputs": [],
   "source": [
    "import numpy as np"
   ]
  },
  {
   "cell_type": "code",
   "execution_count": 1,
   "id": "6c531f7c-ec56-4d28-85b7-1a8184da5905",
   "metadata": {},
   "outputs": [],
   "source": [
    "a = 5 \n",
    "b = 7.5\n",
    "c = \"jani na\""
   ]
  },
  {
   "cell_type": "code",
   "execution_count": 3,
   "id": "4e2d1ec3-8d12-43f2-9193-0c2c84538675",
   "metadata": {},
   "outputs": [],
   "source": [
    "#print(type(a), type(b), type(c))"
   ]
  },
  {
   "cell_type": "code",
   "execution_count": 9,
   "id": "befc5d2d-5349-4b81-8940-8fa0603c093e",
   "metadata": {},
   "outputs": [
    {
     "name": "stdout",
     "output_type": "stream",
     "text": [
      "<class 'int'> <class 'float'> <class 'str'>\n"
     ]
    }
   ],
   "source": [
    "print(type(a), type(b), type(c))"
   ]
  },
  {
   "cell_type": "markdown",
   "id": "f7133e45-d4a6-430b-aa65-7f960b402d35",
   "metadata": {},
   "source": [
    "Casting in Python"
   ]
  },
  {
   "cell_type": "code",
   "execution_count": 10,
   "id": "98f0fb67-b6cd-43d0-a595-2ba5e062b8fa",
   "metadata": {},
   "outputs": [
    {
     "name": "stdout",
     "output_type": "stream",
     "text": [
      "try it\n"
     ]
    }
   ],
   "source": [
    "x = str(2)\n",
    "y = str(3.6)\n",
    "z = str(\"try it\")\n",
    "\n",
    "print(z)"
   ]
  },
  {
   "cell_type": "code",
   "execution_count": 15,
   "id": "136af548-eff8-45d2-9f8b-0adb35c7fb8e",
   "metadata": {},
   "outputs": [
    {
     "name": "stdout",
     "output_type": "stream",
     "text": [
      " she is beautiful, I am gonna get the beautiful, lady who has beautiful eyes \n",
      "[' she is beautiful', ' I am gonna get the beautiful', ' lady who has beautiful eyes ']\n"
     ]
    }
   ],
   "source": [
    "she = \" she is beautiful, I am gonna get the beautiful, lady who has beautiful eyes \"\n",
    "print(she)\n",
    "\n",
    "she = she.split(\",\")\n",
    "print(she)"
   ]
  },
  {
   "cell_type": "markdown",
   "id": "68d6d366-c7d7-4aec-a8bc-46be4ee24bc0",
   "metadata": {},
   "source": [
    "slicing"
   ]
  },
  {
   "cell_type": "code",
   "execution_count": 13,
   "id": "8ef3b0c2-db62-4295-895c-b269bcc355ab",
   "metadata": {},
   "outputs": [],
   "source": [
    "#assume that you are to count the digits of a particular string, for example, between \"hello world \", we have to count first 5 or 6 letter. let's do it"
   ]
  },
  {
   "cell_type": "code",
   "execution_count": 19,
   "id": "fc4ae4d4-48e2-483b-8bc6-59e762e09bbb",
   "metadata": {},
   "outputs": [
    {
     "name": "stdout",
     "output_type": "stream",
     "text": [
      " welcome to the University of Vaasa\n"
     ]
    }
   ],
   "source": [
    "h = \"hello world, welcome to the University of Vaasa\"\n",
    "# print(h[:10])\n",
    "print(h[12:])"
   ]
  },
  {
   "cell_type": "markdown",
   "id": "c1f69570-0c38-49e5-a1cd-3ce5be6236a8",
   "metadata": {},
   "source": [
    "how to modify the string into upper and lower letters"
   ]
  },
  {
   "cell_type": "code",
   "execution_count": 27,
   "id": "5ce51b78-3fb4-4123-8bbd-ae671fcf2fa8",
   "metadata": {},
   "outputs": [
    {
     "name": "stdout",
     "output_type": "stream",
     "text": [
      "HELLO WORLD, WELCOME TO THE UNIVERSITY OF VAASA\n",
      "hello world, welcome to the University of Vaasa\n",
      "Hello World, Welcome To The University Of Vaasa\n"
     ]
    }
   ],
   "source": [
    "h = \"hello world, welcome to the University of Vaasa\"\n",
    "print(h.upper())\n",
    "print(h.strip()) #eta space thik thak kore, it can rearrange the  spaces among the words\n",
    "print(h.title()) #in excel which is proper in python this is called title"
   ]
  },
  {
   "cell_type": "code",
   "execution_count": 28,
   "id": "6fab5253-90a1-446f-8ed9-05ff3fbd851a",
   "metadata": {},
   "outputs": [
    {
     "name": "stdout",
     "output_type": "stream",
     "text": [
      "    HI, I LOVE PYTHONNN,     DO   YOU?\n",
      "Hi, I love pythonnn,     do   you?\n",
      "    Hi, I Love Pythonnn,     Do   You?\n"
     ]
    }
   ],
   "source": [
    "h = \"    Hi, I love pythonnn,     do   you?\"\n",
    "print(h.upper())\n",
    "print(h.strip()) #eta space thik thak kore, it can rearrange the  spaces among the words\n",
    "print(h.title()) #in excel which is proper in python this is called title"
   ]
  },
  {
   "cell_type": "markdown",
   "id": "d2884254-3184-419e-8741-3d46166deb6f",
   "metadata": {},
   "source": [
    "that is concatanate "
   ]
  },
  {
   "cell_type": "code",
   "execution_count": 34,
   "id": "3b2c6f60-3dfe-4179-bf2b-6481d4c62977",
   "metadata": {},
   "outputs": [
    {
     "name": "stdin",
     "output_type": "stream",
     "text": [
      "enter an int 15\n",
      "enter an int 22\n"
     ]
    },
    {
     "name": "stdout",
     "output_type": "stream",
     "text": [
      "1522\n"
     ]
    }
   ],
   "source": [
    "num1 = input(\"enter an int\")\n",
    "num2 = input(\"enter an int\")\n",
    "\n",
    "add_two_numbers = num1 + num2\n",
    "\n",
    "print(add_two_numbers) \n"
   ]
  },
  {
   "cell_type": "code",
   "execution_count": 46,
   "id": "6dbff255-0c7e-4e82-aabd-7f79972fdf8f",
   "metadata": {},
   "outputs": [
    {
     "name": "stdin",
     "output_type": "stream",
     "text": [
      "Enter the first number:  22\n",
      "Enter the second number:  33\n"
     ]
    },
    {
     "name": "stdout",
     "output_type": "stream",
     "text": [
      "The result of 22 + 33 is: 55\n"
     ]
    }
   ],
   "source": [
    "num1 = input(\"Enter the first number: \")\n",
    "num2 = input(\"Enter the second number: \")\n",
    "\n",
    "# Convert the user input to integers\n",
    "try:\n",
    "    \n",
    "    num1 = int(num1)\n",
    "    num2 = int(num2)\n",
    "    \n",
    "    # Perform addition\n",
    "    result = num1 + num2\n",
    "    \n",
    "    print(f\"The result of {num1} + {num2} is: {result}\")\n",
    "    \n",
    "except ValueError:\n",
    "    \n",
    "    print(\"Invalid input. Please enter valid integer numbers.\")\n",
    "\n"
   ]
  },
  {
   "cell_type": "code",
   "execution_count": 19,
   "id": "da2c270b-79f3-4a67-a74d-5e9f11744de3",
   "metadata": {},
   "outputs": [
    {
     "name": "stdout",
     "output_type": "stream",
     "text": [
      "[[1, 2], [2, 2], [2, 0], [1, 2]]\n"
     ]
    }
   ],
   "source": [
    "r1 = ([[1,2], [2,2]])\n",
    "r2 = ([[2,0], [1,2]])\n",
    "result = r1 + r2\n",
    "print(result)"
   ]
  },
  {
   "cell_type": "code",
   "execution_count": null,
   "id": "e8166ff8-a269-401b-a6cc-d8b6ed4f9de3",
   "metadata": {},
   "outputs": [],
   "source": []
  }
 ],
 "metadata": {
  "kernelspec": {
   "display_name": "Python 3 (ipykernel)",
   "language": "python",
   "name": "python3"
  },
  "language_info": {
   "codemirror_mode": {
    "name": "ipython",
    "version": 3
   },
   "file_extension": ".py",
   "mimetype": "text/x-python",
   "name": "python",
   "nbconvert_exporter": "python",
   "pygments_lexer": "ipython3",
   "version": "3.12.0"
  }
 },
 "nbformat": 4,
 "nbformat_minor": 5
}
